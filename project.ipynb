import cv2
import numpy as np
import face_recognition
import os
from datetime import datetime

# here define a folder where images are stored.
track = 'students_images'
images = []
classNames = []
# create a list to store image array.
myData = os.listdir(track)
print(myData)
for cl in myData:
    curImg = cv2.imread(f'{track}/{cl}')
    images.append(curImg)
    classNames.append(os.path.splitext(cl)[0])
print(classNames)

# create a function to encode all the images and store them in a encodeList.

def find_encodings(images):
    encodeList = []
    for img in images:
        img = cv2.cvtColor(img, cv2.COLOR_BGR2RGB)
        encode = face_recognition.face_encodings(img)[0]
        encodeList.append(encode)
    return encodeList

# create a function that will create a file (Attendance.csv) to store the attendance with time and date.
def markAttendance(name):
    with open('Attendance.csv','r+') as f:
        myDataList = f.readlines()
        nameList = []
        for line in myDataList:
            entry = line.split(',')
            nameList.append(entry[0])
        if name not in nameList:
            now = datetime.now()
            date = now.strftime('%d/%B/%Y')
            time = now.strftime('%H:%M:%S')
            f.writelines(f'\n{name},{time},{date}')



encodeListKnown = find_encodings(images)
print('Encoding complete')

# if attendee name is already available in attendance.csv we won't write attendance again. otherwise, attendee name
# with a time and date of a function call.

cap = cv2.VideoCapture(0)

while True:
    success, img = cap.read()

# resize the image by 1/4 only for the recognition part.output frame will be of the original size.
    imgs = cv2.resize(img, (0,0), None, 0.25, 0.25)
    imgs = cv2.cvtColor(imgs, cv2.COLOR_BGR2RGB)

    facesCurframe = face_recognition.face_locations(imgs)
    encodesCurframe = face_recognition.face_encodings(imgs,facesCurframe)

    for encodeFace,faceLoc in zip(encodesCurframe,facesCurframe):
        matches = face_recognition.compare_faces(encodeListKnown,encodeFace)

# return a distance of the test image with all the images present in our image directory.
        faceDis = face_recognition.face_distance(encodeListKnown,encodeFace)
        print(faceDis)
        matchIndex = np.argmin(faceDis)
# the index of the minimum face distance will be the matching face
        if matches[matchIndex]:
            name = classNames[matchIndex].upper()
            #print(name)
            y1,x2,y2,x1 = faceLoc
            y1, x2, y2, x1 = y1*4,x2*4,y2*4,x1*4
# Draw bounding box using cv2.rectangle().
            cv2.rectangle(img,(x1,y1),(x2,y2),(0,225,0),2)
            cv2.rectangle(img,(x1,y2-35),(x2,y2),(0,225,0),cv2.FILLED)
# we put the matching name on the output frame using cv2.putText().
            cv2.putText(img,name,(x1+6,y2-6),cv2.FONT_HERSHEY_COMPLEX,1,(225,225,225),2)

# after finding the matching name we call the markAttendance function.
            markAttendance(name)

    cv2.imshow('Webcam', img)
    cv2.waitKey(1)
