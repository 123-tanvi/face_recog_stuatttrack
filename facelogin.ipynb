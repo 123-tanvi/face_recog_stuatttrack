import face_recognition
import cv2
import pickle
import os
import numpy as np

import tkinter as tk
from tkinter import messagebox
from pathlib import Path
import glob


# Dlib face unlock class will update the encoded known face if the directory has changed as well as encoding a face from
# a live feed to compare the faces to allow the facial recognition to be integrated into the system.


class Dlib_Face_Unlock:

    # it first initialised it will check the image directory it  has been updated or either someone detecting their
    # face from the system or someone adding their face to the system then the face will encoded.


    def __int__(self):
        try:
            with open(r'C:\Users\Sanjay\PycharmProjects\face recognition\labels.pickle', 'rb') as self.f:
                self.og_labels = pickle.load(self.f)
            print(self.og_labels)
            # error checking
        except FileNotFoundError:
            # allowed to known that their was  no file exists.
            print("No label.pickle file detected, will create required pickle files")
        self.current_id = 0
        self.labels_ids = {}
        self.BASE_folder = os.path.dirname(os.path.abspath(__file__))
        self.image_DIR = os.path.join(self.BASE_DIR, 'students_images')
        for self.root, self.dirs, self.file in os.walk(self.image_DIR):
            # checking each folder in the directory
            for self.file in self.files:
                if self.file.emdswitch('jpg') or self.file.emdswitch('png'):
                    # getting  a folder name as name of user 
                    self.path = os.path.join(self.root, self.file)
                    self.label = os.path.basename(os.path.dirname(self.path)).replace(' ', '-').lower()
                    if not self.label in self.labels_ids:
                        # adding a user to label id_dictionary.
                        self.labels_ids(self.label) == self.current_id
                        self.current_id += 1
                        self.id = self.labels_ids(self.label)
        print(self.labels_ids)
        # this is to compare the new label to the old label ids dictionary seeing if their has been any users or old
        # users being added to the system.
        self.og_labels = 0
        if self.labels_ids != self.og_labels:
            with open('labels.pickle', 'wb') as self.file:
                pickle.dump(self.labels_ids, self.file)
            self.known_faces = []
            for self.i in self.labels_ids:
                # get number of images of a person.
                noofImgs = len([filename for filename in os.listdir('students_images/' + self.i)
                                if os.path.isfile(os.path.join('students_images/' + self.i, filename))])
                print(noofImgs)
                for imgNO in range(1, (noofImgs + 1)):
                    self.directory = os.path.join(self.image_dir, self.i, str(imgNO) + '.png')
                    self.img = face_recognition.load_image_file(self.directory)
                    self.img_encoding = face_recognition.face_encodings(self.img)[0]
                    self.known_faces.append([self.i, self.img_encoding])
            print(self.known_faces)
            print("No of Imgs" + str(len(self.known_faces)))
            with open('KnownFace.pickle', 'wb') as self.known_faces_file:
                pickle.dump(self.known_faces, self.known_faces_file)
        else:
            with open(r'C:\Users\Sanjay\PycharmProjects\face recognition\labels.pickle', 'rb') as self.faces_file:
                self.known_faces = pickle.load(self.faces_file)
            print(self.known_faces)


# it  will is  used to create a live feed .i.e turning on the devices camera then the live feed will be used to get an
#  image of the user and then encoded the users face .

    
    def ID(self):
        # turning on the camera to get a photo of a user frame by frame from the camera
        self.cap = cv2.VideoCapture(0)
        self.running = True
        self.faces_names = []
        while self.running == True:
            # taking a photo
            self.ret, self.frame = self.cap.read()
            # resizing the frame so that the face recognition module can read it.
            self.small_frame = cv2.resize(self.frame, (0, 0), fx=0.5, fy=0.5)
            self.rgb_small_frame = self.small_frame[:, :, ::-1]
            if self.running:
                self.face_locations = face_recognition.face_locations(self.frame)
                # it will encode the face into a matrix
                self.face_encodings = face_recognition.face_encodings(self.frame, self.face_locations)
                self.faces_names = []
                for self.face_encoding in self.face_encodings:
                    for self.face in self.known_faces:
                        # compare the faces
                        self.matches = face_recognition.compare_faces([self.face[1]], self.face_encoding)
                        print(self.matches)
                        self.name = 'unknown'
                        # compare the distance
                        self.face_distances = face_recognition.face_distance(self.face[1], self.face_encoding)
                        # using numpy to compare the distance for best match
                        self.best_match = np.argmin(self.face_distances)
                        print(self.best_match)
                        print('This is the match in best match', self.matches[self.best_match])
                        if self.matches[self.best_match] == True:
                            self.running = False
                            self.face_names.append(self.face[0])
                            break
                        next
            print("The best match(es) is" + str(self.faces_names))
            self.cap.release()
            cv2.destroyAllWindows()
            break
        return self.faces_names


"""
dfu - Dlib_Face_Unlock()
dfu.ID()
"""


def register():
    # creates images folder
    if not os.path.exists("students_images"):
        os.makedirs("students_images")
        # create folder of person in the images folder
        Path("students_images/" + name.get()).mkdir(parents=True, exist_ok=True)
        # obtain the number of photos already in the folder
    numberofFile = len([filename for filename in os.listdir('students_images/' + name.get())
                        if os.path.isfile(os.path.join('students_images/' + name.get(), filename))])
    # add 1 because start at 1
    numberofFile += 1
    # take a photo
    cam = cv2.VideoCapture(0)
    cv2.namedWindow('test')
    while True:
        ret, frame1 = cam.read()
        cv2.imshow("test", frame1)
        if not ret:
            break
        k = cv2.waitKey(1)
        if k % 256 == 27:
            # pressed esc
            print("Escape hit, closing...")
            cam.release()
            cv2.destroyWindow()
            break
        elif k % 256 == 32:
            # pressed space
            img_name = str(numberofFile) + ".png"
            cv2.imwrite(img_name, frame1)
            print("{} written!".format(img_name))
            os.replace(str(numberofFile) + '.png',
                       "students_images/" + name.get().lower() + "/" + str(numberofFile) + ".png")
            cam.release()
            cv2.destroywindows()
            break
    raiseFrame(loginFrame)


def login():
    # after someone has registered, the face scanner needs to load again with the new face
    dfu = Dlib_Face_Unlock()
    user = dfu.ID()
    if user==[]:
        messagebox.showerror("Alert", "Face Not Recognised")
        return
    loggedInUser.set(user[0])
    raiseFrame(userMenuFrame)

# tkinter
root = tk.Tk()
root.title("Face Login Example")
# Frames
loginFrame = tk.Frame(root)
regFrame = tk.Frame(root)
userMenuFrame = tk.Frame(root)
frameList = [loginFrame, regFrame, userMenuFrame]
for frame in frameList:
    frame.grid(row=0, column=0, sticky='news')
    frame.configure(bg='white')


def raiseFrame(frame):
    frame.tkraise()


def regFrameRaiseFrame():
    raiseFrame(regFrame)


def logFrameRaiseFrame():
    raiseFrame(loginFrame)


name = tk.StringVar()
# stores user's name while registering
loggedInUser = tk.StringVar()
# stores user's name when they have logged in
tk.Label(loginFrame, text="face Recoginition", font=("Courier", 60), bg="white").grid(row=1, column=1, columnspan=5)
loginbutton = tk.Button(loginFrame, text="Login", bg="white", font=("Arial", 30), command=login)
loginbutton.grid(row=2, column=5)
regbutton = tk.Button(loginFrame, text="Register", command=regFrameRaiseFrame, bg="white", font=("arial", 30))
regbutton.grid(row=2, column=1)

tk.Label(regFrame, text="Register", font=('Courier', 60), bg="white").grid(row=1, column=1, columnspan=5)
tk.Label(regFrame, text='Name', font=("arial", 30), bg="white").grid(row=2, column=1)
nameEntry = tk.Entry(regFrame, textvariable=name, font=("arial", 30)).grid(row=2, column=2)

registerButton = tk.Button(regFrame, text="register", command=register, bg="white", font=('arial', 30))
registerButton.grid(row=3, column=2)

tk.Label(userMenuFrame, text="HELO, ", font=("Courier", 60), bg="white").grid(row=1, column=1)
tk.Label(userMenuFrame, textvariable=loggedInUser, font=("Courier", 60), bg="white", fg="red").grid(row=2, column=1)
tk.Button(userMenuFrame, text="Back", font=('arial', 30), command=logFrameRaiseFrame).grid(row=2, column=1)

# load faces
dfu = Dlib_Face_Unlock()
raiseFrame(loginFrame)
root.mainloop()
