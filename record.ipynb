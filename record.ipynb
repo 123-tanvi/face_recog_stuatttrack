Name,Time,Date

ELON,07:53:51,26-05-2022
